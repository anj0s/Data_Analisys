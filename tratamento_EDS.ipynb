{
  "nbformat": 4,
  "nbformat_minor": 0,
  "metadata": {
    "colab": {
      "provenance": [],
      "authorship_tag": "ABX9TyMPb8goDj/SupmaI6UNg2bo",
      "include_colab_link": true
    },
    "kernelspec": {
      "name": "python3",
      "display_name": "Python 3"
    },
    "language_info": {
      "name": "python"
    }
  },
  "cells": [
    {
      "cell_type": "markdown",
      "metadata": {
        "id": "view-in-github",
        "colab_type": "text"
      },
      "source": [
        "<a href=\"https://colab.research.google.com/github/matheusanjos200203/Data_Analisys/blob/main/tratamento_EDS.ipynb\" target=\"_parent\"><img src=\"https://colab.research.google.com/assets/colab-badge.svg\" alt=\"Open In Colab\"/></a>"
      ]
    },
    {
      "cell_type": "code",
      "execution_count": 337,
      "metadata": {
        "id": "PhqAWclknAod"
      },
      "outputs": [],
      "source": [
        "import pandas as pd\n",
        "import numpy as np\n",
        "import matplotlib.pyplot as plt\n",
        "import matplotlib.ticker as ticker"
      ]
    },
    {
      "cell_type": "code",
      "source": [
        "file_path = '/content/Compilado_A1.xlsx'"
      ],
      "metadata": {
        "id": "6wp1mnTOZ9ql"
      },
      "execution_count": 320,
      "outputs": []
    },
    {
      "cell_type": "code",
      "source": [
        "import pandas as pd\n",
        "\n",
        "def read_EDS(file_path):\n",
        "    # Abrir o arquivo Excel\n",
        "    Compilado = pd.ExcelFile(file_path)\n",
        "    sheets_dict = {}  # Dicionário para armazenar os DataFrames de cada planilha\n",
        "\n",
        "    # Iterar sobre as planilhas do arquivo Excel\n",
        "    for Sheet_Name in Compilado.sheet_names:\n",
        "        # Ler cada planilha como um DataFrame\n",
        "        sheet_info = Compilado.parse(Sheet_Name)\n",
        "        # Adicionar o DataFrame ao dicionário usando o nome da planilha como chave\n",
        "        sheets_dict[Sheet_Name] = sheet_info\n",
        "\n",
        "    # Concatenar os DataFrames das planilhas em um único DataFrame\n",
        "    df = pd.concat(sheets_dict.values(), ignore_index=True)\n",
        "\n",
        "    return df\n"
      ],
      "metadata": {
        "id": "twVAwQGnWr2A"
      },
      "execution_count": 327,
      "outputs": []
    },
    {
      "cell_type": "code",
      "source": [
        "def transform_to_numeric_fillna(df):\n",
        "  # Iterando as colunas do dataframe\n",
        "  for column in df.columns:\n",
        "    # Realizando a verificação do tipo de dado gravado na coluna iterada\n",
        "    if df[column].dtypes != 'float64':\n",
        "      # Transformando os dados presententes na coluna para valores numérico\n",
        "      df[column] = pd.to_numeric(df[column], errors = 'coerce')\n",
        "  # Retornando o dataframe trocando os NaN por 0\n",
        "  return df.fillna(0)"
      ],
      "metadata": {
        "id": "d1YWv4hZ8Rk5"
      },
      "execution_count": 322,
      "outputs": []
    },
    {
      "cell_type": "code",
      "source": [
        "def add_mean_line(df):\n",
        "  # Gerando um dataframe com a médias das colunas do dataframe principal\n",
        "  mean = df.mean().to_frame().T\n",
        "  # Alterando o nome do index deste datarame para média\n",
        "  mean.index = ['Média']\n",
        "  # Retornando um dataframe concatenando o dataframe principal tendo como a última linha a média das colunas\n",
        "  return pd.concat([df, mean])"
      ],
      "metadata": {
        "id": "NdHnuXO0dayP"
      },
      "execution_count": 323,
      "outputs": []
    },
    {
      "cell_type": "code",
      "source": [
        "df = read_EDS(file_path)\n",
        "df = transform_to_numeric_fillna(df)\n",
        "df_perCent = df / 100"
      ],
      "metadata": {
        "id": "dFi-dr2yG4wQ"
      },
      "execution_count": 333,
      "outputs": []
    },
    {
      "cell_type": "code",
      "source": [
        "df = add_mean_line(df)\n",
        "df"
      ],
      "metadata": {
        "id": "5l2glxJBfs8Q"
      },
      "execution_count": null,
      "outputs": []
    },
    {
      "cell_type": "code",
      "source": [
        "df.to_excel('dataframe.xlsx', index = False)"
      ],
      "metadata": {
        "id": "qMgmzdmIftQO"
      },
      "execution_count": 336,
      "outputs": []
    },
    {
      "cell_type": "code",
      "source": [
        "ax = df_perCent.mean().plot(kind = 'bar', width = 0.5, align = 'center', color = '#1F4F74')\n",
        "\n",
        "plt.title('Amostra 01')\n",
        "plt.xlabel('Elemento')\n",
        "plt.ylabel('Média')\n",
        "\n",
        "ax.yaxis.set_major_locator(ticker.FixedLocator(ax.get_yticks()))\n",
        "ax.set_yticklabels(['{:.0f}%'.format(x*100) for x in ax.get_yticks()])\n",
        "\n",
        "plt.grid(True, color = 'gray', linewidth = 0.2)\n",
        "\n",
        "plt.show()"
      ],
      "metadata": {
        "colab": {
          "base_uri": "https://localhost:8080/",
          "height": 479
        },
        "id": "A3v30Z4IIYiU",
        "outputId": "59f4bccc-06fa-4c2d-e587-cd701a25b1e4"
      },
      "execution_count": 339,
      "outputs": [
        {
          "output_type": "display_data",
          "data": {
            "text/plain": [
              "<Figure size 640x480 with 1 Axes>"
            ],
            "image/png": "[encoded data removed]"
          },
          "metadata": {}
        }
      ]
    }
  ]
}